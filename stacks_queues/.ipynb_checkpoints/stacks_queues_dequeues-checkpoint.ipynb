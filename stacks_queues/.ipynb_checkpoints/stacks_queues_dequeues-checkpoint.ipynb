{
 "cells": [
  {
   "cell_type": "markdown",
   "metadata": {},
   "source": [
    "# Stacks\n",
    "* Stacks are an ordered collection of items where addition and removal of items takes place at the same end (called the **_top_**)\n",
    "* The opposite end of the _top_ (or the bottom of the stack) is called the **_base_**\n",
    "* Items closest to the base represent those items that have been in the stack the longest. Those closests to the top are the newest.\n",
    "* Stacks represent a _last in, first out_ principle for ordering (**_LIFO_**)\n",
    "* Stacks are great tools for reversing the order of items, as the order of insertion is the reverse of the order of removal.\n",
    "\n",
    "<img src='./stacks_photo1.png' alt='stack diagram' width='450px' />\n",
    "\n",
    "\n",
    "\n",
    "### Real World Application\n",
    "* **Web Browsers** every time you visit a new webpage, that URL is added to a stack. When you press the back button, you are popping a URL off the stack to go back through your browser history."
   ]
  },
  {
   "cell_type": "markdown",
   "metadata": {},
   "source": [
    "## Implementing a Stack"
   ]
  },
  {
   "cell_type": "code",
   "execution_count": null,
   "metadata": {},
   "outputs": [],
   "source": []
  }
 ],
 "metadata": {
  "kernelspec": {
   "display_name": "Python 3",
   "language": "python",
   "name": "python3"
  },
  "language_info": {
   "codemirror_mode": {
    "name": "ipython",
    "version": 3
   },
   "file_extension": ".py",
   "mimetype": "text/x-python",
   "name": "python",
   "nbconvert_exporter": "python",
   "pygments_lexer": "ipython3",
   "version": "3.7.3"
  }
 },
 "nbformat": 4,
 "nbformat_minor": 2
}
