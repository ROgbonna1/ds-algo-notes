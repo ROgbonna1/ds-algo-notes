{
 "cells": [
  {
   "cell_type": "markdown",
   "metadata": {},
   "source": [
    "# Array Pair Sum\n",
    "## Problem\n",
    "Given an integer array, output all the unique pairs that sum up to a specific value k.\n",
    "\n",
    "So the input:\n",
    "\n",
    "`pair_sum([1,3,2,2],4)`\n",
    "\n",
    "would return 2 pairs:\n",
    "\n",
    " `(1,3)`\n",
    " `(2,2)`"
   ]
  },
  {
   "cell_type": "code",
   "execution_count": 22,
   "metadata": {},
   "outputs": [],
   "source": [
    "def pair_sum(nums, target):\n",
    "    # Build up lookup dictionary\n",
    "    ints = {}\n",
    "    \n",
    "    # Creating set-like data structure. Only indicating if a number appears more than once but not keeping track of count\n",
    "    for num in nums:\n",
    "        if num in ints:\n",
    "            ints[num] = 2\n",
    "        else:\n",
    "            ints[num] = 1\n",
    "    \n",
    "    pairs = []\n",
    "    for num in ints:\n",
    "        complement = target - num\n",
    "        \n",
    "        # Only count a number twice if it appears as a duplicate in the original array\n",
    "        if (num != complement and ints[complement] > 0) or (num == complement and ints[complement] == 2):\n",
    "            pairs.append([num, complement])\n",
    "            ints[num] = 0\n",
    "            ints[complement] -= 0                \n",
    "\n",
    "    return pairs"
   ]
  },
  {
   "cell_type": "code",
   "execution_count": 24,
   "metadata": {},
   "outputs": [
    {
     "data": {
      "text/plain": [
       "[[1, 3], [2, 2], [9, -5], [0, 4]]"
      ]
     },
     "execution_count": 24,
     "metadata": {},
     "output_type": "execute_result"
    }
   ],
   "source": [
    "pair_sum([1,3,2,2, 9, -5, 2, 2, 1, 3, 2, 2, 2, 2, 0, 4, 4, 0], 4)"
   ]
  }
 ],
 "metadata": {
  "kernelspec": {
   "display_name": "Python 3",
   "language": "python",
   "name": "python3"
  },
  "language_info": {
   "codemirror_mode": {
    "name": "ipython",
    "version": 3
   },
   "file_extension": ".py",
   "mimetype": "text/x-python",
   "name": "python",
   "nbconvert_exporter": "python",
   "pygments_lexer": "ipython3",
   "version": "3.7.3"
  }
 },
 "nbformat": 4,
 "nbformat_minor": 2
}
