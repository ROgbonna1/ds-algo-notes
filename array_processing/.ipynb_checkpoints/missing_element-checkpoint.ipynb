{
 "cells": [
  {
   "cell_type": "markdown",
   "metadata": {},
   "source": [
    "# Problem\n",
    "Consider an array of non-negative integers. A second array is formed by shuffling the elements of the first array and deleting a random element. Given these two arrays, find which element is missing in the second array.\n",
    "\n",
    "Here is an example input, the first array is shuffled and the number 5 is removed to construct the second array.\n",
    "\n",
    "Input:\n",
    "\n",
    "`finder([1,2,3,4,5,6,7],[3,7,2,1,4,6])`\n",
    "\n",
    "Output:\n",
    "\n",
    "`5 is the missing number`"
   ]
  },
  {
   "cell_type": "markdown",
   "metadata": {},
   "source": [
    "## First O(n) Solution: Sums"
   ]
  },
  {
   "cell_type": "code",
   "execution_count": 1,
   "metadata": {},
   "outputs": [],
   "source": [
    "def finder(arr1, arr2):\n",
    "    missing_number = sum(arr1) - sum(arr2)\n",
    "    return f'{missing_number} is the missing number'"
   ]
  },
  {
   "cell_type": "code",
   "execution_count": 3,
   "metadata": {},
   "outputs": [
    {
     "data": {
      "text/plain": [
       "'5 is the missing number'"
      ]
     },
     "execution_count": 3,
     "metadata": {},
     "output_type": "execute_result"
    }
   ],
   "source": [
    "finder([1,2,3,4,5,6,7],[3,7,2,1,4,6])"
   ]
  },
  {
   "cell_type": "markdown",
   "metadata": {},
   "source": [
    "This solution could become problematic if the numbers are large or the array is very large. If the sums get too large, there could be an overflow.\n",
    "**Recommendation:** Mention this in the interview and discuss its drawbacks but don't use it as your final solution."
   ]
  },
  {
   "cell_type": "markdown",
   "metadata": {},
   "source": [
    "## Second O(n) Solution: XOR"
   ]
  },
  {
   "cell_type": "code",
   "execution_count": 5,
   "metadata": {},
   "outputs": [],
   "source": [
    "def finder3(arr1, arr2): \n",
    "    result=0 \n",
    "    \n",
    "    # Perform an XOR between the numbers in the arrays\n",
    "    for num in arr1+arr2: \n",
    "        result^=num \n",
    "        \n",
    "    return result "
   ]
  },
  {
   "cell_type": "markdown",
   "metadata": {},
   "source": [
    "By performing a very clever trick, we can achieve linear time and constant space complexity without any problems. Here it is: initialize a variable to 0, then XOR every element in the first and second arrays with that variable. In the end, the value of the variable is the result, missing element in array2."
   ]
  }
 ],
 "metadata": {
  "kernelspec": {
   "display_name": "Python 3",
   "language": "python",
   "name": "python3"
  },
  "language_info": {
   "codemirror_mode": {
    "name": "ipython",
    "version": 3
   },
   "file_extension": ".py",
   "mimetype": "text/x-python",
   "name": "python",
   "nbconvert_exporter": "python",
   "pygments_lexer": "ipython3",
   "version": "3.7.3"
  }
 },
 "nbformat": 4,
 "nbformat_minor": 2
}
