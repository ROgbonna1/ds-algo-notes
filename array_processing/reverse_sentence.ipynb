{
 "cells": [
  {
   "cell_type": "markdown",
   "metadata": {},
   "source": [
    "# Sentence Reversal\n",
    "## Problem\n",
    "Given a string of words, reverse all the words. For example:\n",
    "\n",
    "**Given:**\n",
    "\n",
    "`'This is the best'`\n",
    "\n",
    "**Return:**\n",
    "\n",
    "`'best the is This'`\n",
    "\n",
    "As part of this exercise you should remove all leading and trailing whitespace. So that inputs such as:\n",
    "\n",
    "`'  space here'`  and `'space here      '`\n",
    "\n",
    "both become:\n",
    "\n",
    "`'here space'`\n"
   ]
  },
  {
   "cell_type": "code",
   "execution_count": 23,
   "metadata": {},
   "outputs": [],
   "source": [
    "def reverse_sentence(sentence):\n",
    "    word_count = 0\n",
    "    \n",
    "    # find start of string (stripped of spaces)\n",
    "    for idx, char in enumerate(sentence):\n",
    "        if char != ' ':\n",
    "            first_char_found = idx\n",
    "            break\n",
    "    \n",
    "    # find end of string (stripped of spaces)\n",
    "    idx = len(sentence) - 1\n",
    "    while idx >= 0:\n",
    "        if sentence[idx] != ' ':\n",
    "            last_char_found = idx\n",
    "            break\n",
    "        else:\n",
    "            idx -= 1\n",
    "        \n",
    "    # Build up array of words\n",
    "    words = ['']\n",
    "    for char in sentence[first_char_found:last_char_found + 1]:\n",
    "        if char == ' ':\n",
    "            word_count += 1\n",
    "            words.append('')\n",
    "        else:\n",
    "            words[word_count] += char;\n",
    "    \n",
    "    # Build up string from words array\n",
    "    reversed_sentence = ''\n",
    "    while len(words) > 0:\n",
    "        reversed_sentence += words.pop() +  ' '\n",
    "    \n",
    "    return reversed_sentence[:-1]"
   ]
  },
  {
   "cell_type": "code",
   "execution_count": 24,
   "metadata": {},
   "outputs": [
    {
     "name": "stdout",
     "output_type": "stream",
     "text": [
      "['This', 'is', 'a', 'test']\n"
     ]
    },
    {
     "data": {
      "text/plain": [
       "'test a is This'"
      ]
     },
     "execution_count": 24,
     "metadata": {},
     "output_type": "execute_result"
    }
   ],
   "source": [
    "reverse_sentence('This is a test')"
   ]
  },
  {
   "cell_type": "code",
   "execution_count": 25,
   "metadata": {},
   "outputs": [
    {
     "name": "stdout",
     "output_type": "stream",
     "text": [
      "['whatever', 'you', 'Want', 'is', 'Fine', 'with', 'me']\n"
     ]
    },
    {
     "data": {
      "text/plain": [
       "'me with Fine is Want you whatever'"
      ]
     },
     "execution_count": 25,
     "metadata": {},
     "output_type": "execute_result"
    }
   ],
   "source": [
    "reverse_sentence('   whatever you Want is Fine with me  ')"
   ]
  },
  {
   "cell_type": "markdown",
   "metadata": {},
   "source": [
    "### Alternative Solution"
   ]
  },
  {
   "cell_type": "code",
   "execution_count": 26,
   "metadata": {},
   "outputs": [],
   "source": [
    "def rev_word3(s):\n",
    "    \"\"\"\n",
    "    Manually doing the splits on the spaces.\n",
    "    \"\"\"\n",
    "    \n",
    "    words = []\n",
    "    length = len(s)\n",
    "    spaces = [' ']\n",
    "    \n",
    "    # Index Tracker\n",
    "    i = 0\n",
    "    \n",
    "    # While index is less than length of string\n",
    "    while i < length:\n",
    "        \n",
    "        # If element isn't a space\n",
    "        if s[i] not in spaces:\n",
    "            \n",
    "            # The word starts at this index\n",
    "            word_start = i\n",
    "            \n",
    "            while i < length and s[i] not in spaces:\n",
    "                \n",
    "                # Get index where word ends\n",
    "                i += 1\n",
    "            # Append that word to the list\n",
    "            words.append(s[word_start:i])\n",
    "        # Add to index\n",
    "        i += 1\n",
    "        \n",
    "    # Join the reversed words\n",
    "    return \" \".join(reversed(words))"
   ]
  },
  {
   "cell_type": "code",
   "execution_count": null,
   "metadata": {},
   "outputs": [],
   "source": []
  }
 ],
 "metadata": {
  "kernelspec": {
   "display_name": "Python 3",
   "language": "python",
   "name": "python3"
  },
  "language_info": {
   "codemirror_mode": {
    "name": "ipython",
    "version": 3
   },
   "file_extension": ".py",
   "mimetype": "text/x-python",
   "name": "python",
   "nbconvert_exporter": "python",
   "pygments_lexer": "ipython3",
   "version": "3.7.3"
  }
 },
 "nbformat": 4,
 "nbformat_minor": 2
}
